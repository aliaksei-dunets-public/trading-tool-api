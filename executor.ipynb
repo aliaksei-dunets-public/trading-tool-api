{
 "cells": [
  {
   "cell_type": "code",
   "execution_count": 1,
   "metadata": {},
   "outputs": [],
   "source": [
    "import os\n",
    "import json\n",
    "from trading_core.core import SimulateOptions\n",
    "from trading_core.model import config, SymbolList\n",
    "from trading_core.simulator import Simulator\n"
   ]
  },
  {
   "cell_type": "code",
   "execution_count": null,
   "metadata": {},
   "outputs": [],
   "source": [
    "symbols = SymbolList().getSymbolCodes()\n",
    "\n",
    "optionsList=[SimulateOptions(balance=100, limit=500, stopLossRate=0, takeProfitRate=0, feeRate=0.5),\n",
    "            #  SimulateOptions(balance=100, limit=500, stopLossRate=0.2, takeProfitRate=0.6, feeRate=0.5),\n",
    "            #  SimulateOptions(balance=100, limit=500, stopLossRate=0.5, takeProfitRate=1.5, feeRate=0.5),\n",
    "             SimulateOptions(balance=100, limit=500, stopLossRate=2, takeProfitRate=6, feeRate=0.5),\n",
    "             SimulateOptions(balance=100, limit=500, stopLossRate=5, takeProfitRate=15, feeRate=0.5),\n",
    "             SimulateOptions(balance=100, limit=500, stopLossRate=10, takeProfitRate=30, feeRate=0.5)\n",
    "            #  SimulateOptions(balance=100, limit=500, stopLossRate=20, takeProfitRate=60, feeRate=0.5)\n",
    "            ]\n",
    "\n",
    "# result = Simulator().simulateTrading(symbols=symbols, intervals=config.getIntervals('HIGH'), optionsList=optionsList)\n"
   ]
  },
  {
   "cell_type": "code",
   "execution_count": 8,
   "metadata": {},
   "outputs": [],
   "source": [
    "file_path = f'{os.getcwd()}\\static\\simulations.json'\n",
    "\n",
    "positiveSimulations = []\n",
    "\n",
    "with open(file_path, 'r') as reader:\n",
    "    simulations = json.load(reader)\n",
    "\n",
    "for simulate in simulations:\n",
    "    if simulate['profit'] >= simulate['initBalance'] * 0.3:\n",
    "        positiveSimulations.append(simulate)"
   ]
  },
  {
   "cell_type": "code",
   "execution_count": 2,
   "metadata": {},
   "outputs": [],
   "source": [
    "file_path = f'{os.getcwd()}\\static\\positiveSimulations.json'\n",
    "\n",
    "# with open(file_path, 'w') as writer:\n",
    "#     writer.write(json.dumps(positiveSimulations))\n",
    "\n",
    "with open(file_path, 'r') as reader:\n",
    "    positiveSimulations = json.load(reader)"
   ]
  },
  {
   "cell_type": "code",
   "execution_count": null,
   "metadata": {},
   "outputs": [],
   "source": [
    "symbolList = SymbolList.getSymbols()\n",
    "\n",
    "for result in positiveSimulations:\n",
    "\n",
    "    symbolIndex = symbolList.index()\n",
    "\n",
    "    result['type']\n",
    "\n",
    "with open(file_path, 'w') as writer:\n",
    "    writer.write(json.dumps(positiveSimulations))"
   ]
  },
  {
   "cell_type": "code",
   "execution_count": null,
   "metadata": {},
   "outputs": [],
   "source": [
    "signals = {}\n",
    "\n",
    "for result in positiveSimulations[:50]:\n",
    "    symbol = result['symbol']\n",
    "    interval = result['interval']\n",
    "    strategy = result['strategy']\n",
    "\n",
    "    if symbol not in signals:\n",
    "        signals[symbol] = {}\n",
    "    \n",
    "    if interval not in signals[symbol]:\n",
    "        signals[symbol][interval] = {}\n",
    "    \n",
    "    if strategy not in signals[symbol][interval]:\n",
    "        signals[symbol][interval][strategy] = {'dateTime': '', 'signal': ''}\n",
    "\n",
    "    \n",
    "print(signals)    \n",
    "    \n",
    "\n"
   ]
  },
  {
   "cell_type": "code",
   "execution_count": 4,
   "metadata": {},
   "outputs": [
    {
     "name": "stderr",
     "output_type": "stream",
     "text": [
      "2023-02-24 23:51:09,549 - root - INFO - getHistoryData(symbol=0x/USD, interval=4h, limit=51)\n",
      "2023-02-24 23:51:10,050 - root - INFO - getHistoryData(symbol=0x/USD, interval=1d, limit=15)\n",
      "2023-02-24 23:51:10,324 - root - INFO - getHistoryData(symbol=0x/USD, interval=1d, limit=21)\n",
      "2023-02-24 23:51:10,602 - root - INFO - getHistoryData(symbol=0x/USD, interval=1d, limit=51)\n",
      "2023-02-24 23:51:10,903 - root - INFO - getHistoryData(symbol=0x/USD, interval=1w, limit=21)\n",
      "2023-02-24 23:51:11,192 - root - INFO - getHistoryData(symbol=1INCH/USD, interval=1w, limit=21)\n",
      "2023-02-24 23:51:11,500 - root - INFO - getHistoryData(symbol=AA, interval=1d, limit=15)\n",
      "2023-02-24 23:51:11,822 - root - INFO - getHistoryData(symbol=AA, interval=1w, limit=51)\n",
      "2023-02-24 23:51:12,129 - root - INFO - getHistoryData(symbol=AAL, interval=1d, limit=15)\n",
      "2023-02-24 23:51:12,487 - root - INFO - getHistoryData(symbol=AAL, interval=1d, limit=21)\n",
      "2023-02-24 23:51:12,752 - root - INFO - getHistoryData(symbol=AAL, interval=1w, limit=15)\n",
      "2023-02-24 23:51:13,092 - root - INFO - getHistoryData(symbol=AAL, interval=1w, limit=21)\n",
      "2023-02-24 23:51:13,362 - root - INFO - getHistoryData(symbol=AAPL, interval=1w, limit=15)\n",
      "2023-02-24 23:51:13,733 - root - INFO - getHistoryData(symbol=AAPL, interval=1w, limit=51)\n",
      "2023-02-24 23:51:14,011 - root - INFO - getHistoryData(symbol=AAVE/USD, interval=1d, limit=21)\n",
      "2023-02-24 23:51:14,301 - root - INFO - getHistoryData(symbol=AAVE/USD, interval=1d, limit=51)\n",
      "2023-02-24 23:51:14,603 - root - INFO - getHistoryData(symbol=ABCL, interval=4h, limit=51)\n",
      "2023-02-24 23:51:14,929 - root - INFO - getHistoryData(symbol=ABCL, interval=1d, limit=51)\n",
      "2023-02-24 23:51:15,284 - root - INFO - getHistoryData(symbol=ABNB, interval=1w, limit=51)\n",
      "2023-02-24 23:51:15,621 - root - INFO - getHistoryData(symbol=ACMR, interval=1w, limit=15)\n",
      "2023-02-24 23:51:15,930 - root - INFO - getHistoryData(symbol=ACMR, interval=1w, limit=21)\n",
      "2023-02-24 23:51:16,202 - root - INFO - getHistoryData(symbol=AFRM, interval=4h, limit=15)\n",
      "2023-02-24 23:51:16,520 - root - INFO - getHistoryData(symbol=AFRM, interval=4h, limit=21)\n",
      "2023-02-24 23:51:16,818 - root - INFO - getHistoryData(symbol=AFRM, interval=1d, limit=51)\n",
      "2023-02-24 23:51:17,134 - root - INFO - getHistoryData(symbol=AFRM, interval=1w, limit=15)\n",
      "2023-02-24 23:51:17,508 - root - INFO - getHistoryData(symbol=AMC, interval=4h, limit=51)\n",
      "2023-02-24 23:51:17,858 - root - INFO - getHistoryData(symbol=AMC, interval=1d, limit=21)\n",
      "2023-02-24 23:51:18,159 - root - INFO - getHistoryData(symbol=AMC, interval=1d, limit=15)\n",
      "2023-02-24 23:51:18,443 - root - INFO - getHistoryData(symbol=AMC, interval=1w, limit=21)\n",
      "2023-02-24 23:51:18,756 - root - INFO - getHistoryData(symbol=AMC, interval=1w, limit=51)\n"
     ]
    },
    {
     "name": "stdout",
     "output_type": "stream",
     "text": [
      "{'0x/USD': {'4h': {'CCI_50_TREND_0': {'dateTime': '', 'signal': ''}}, '1d': {'CCI_14_TREND_100': {'dateTime': '2023-02-24T01:00:00', 'signal': 'Strong Sell'}, 'CCI_20_TREND_100': {'dateTime': '2023-02-24T01:00:00', 'signal': 'Strong Sell'}, 'CCI_50_TREND_0': {'dateTime': '', 'signal': ''}}, '1w': {'CCI_20_TREND_100': {'dateTime': '2023-02-20T01:00:00', 'signal': 'Buy'}}}, '1INCH/USD': {'1w': {'CCI_20_TREND_100': {'dateTime': '2023-02-20T01:00:00', 'signal': 'Buy'}}}, 'AA': {'1d': {'CCI_14_TREND_100': {'dateTime': '2023-02-24T01:00:00', 'signal': 'Sell'}}, '1w': {'CCI_50_TREND_0': {'dateTime': '', 'signal': ''}}}, 'AAL': {'1d': {'CCI_14_TREND_100': {'dateTime': '', 'signal': ''}, 'CCI_20_TREND_100': {'dateTime': '', 'signal': ''}}, '1w': {'CCI_14_TREND_100': {'dateTime': '', 'signal': ''}, 'CCI_20_TREND_100': {'dateTime': '2023-02-20T01:00:00', 'signal': 'Strong Sell'}}}, 'AAPL': {'1w': {'CCI_14_TREND_100': {'dateTime': '', 'signal': ''}, 'CCI_50_TREND_0': {'dateTime': '2023-02-20T01:00:00', 'signal': 'Strong Sell'}}}, 'AAVE/USD': {'1d': {'CCI_20_TREND_100': {'dateTime': '', 'signal': ''}, 'CCI_50_TREND_0': {'dateTime': '', 'signal': ''}}}, 'ABCL': {'4h': {'CCI_50_TREND_0': {'dateTime': '', 'signal': ''}}, '1d': {'CCI_50_TREND_0': {'dateTime': '', 'signal': ''}}}, 'ABNB': {'1w': {'CCI_50_TREND_0': {'dateTime': '', 'signal': ''}}}, 'ACMR': {'1w': {'CCI_14_TREND_100': {'dateTime': '2023-02-20T01:00:00', 'signal': 'Strong Sell'}, 'CCI_20_TREND_100': {'dateTime': '2023-02-20T01:00:00', 'signal': 'Strong Sell'}}}, 'AFRM': {'4h': {'CCI_14_TREND_100': {'dateTime': '', 'signal': ''}, 'CCI_20_TREND_100': {'dateTime': '', 'signal': ''}}, '1d': {'CCI_50_TREND_0': {'dateTime': '', 'signal': ''}}, '1w': {'CCI_14_TREND_100': {'dateTime': '', 'signal': ''}}}, 'AMC': {'4h': {'CCI_50_TREND_0': {'dateTime': '', 'signal': ''}}, '1d': {'CCI_20_TREND_100': {'dateTime': '', 'signal': ''}, 'CCI_14_TREND_100': {'dateTime': '', 'signal': ''}}, '1w': {'CCI_20_TREND_100': {'dateTime': '', 'signal': ''}, 'CCI_50_TREND_0': {'dateTime': '', 'signal': ''}}}}\n"
     ]
    }
   ],
   "source": [
    "strategyCodes = []\n",
    "\n",
    "for symbol, intervals in signals.items():\n",
    "    for interval, strategies in intervals.items():\n",
    "        strategyCodes.clear()\n",
    "        for strategy in strategies.keys():\n",
    "            strategyCodes.append(strategy)\n",
    "        simulatorSignals = Simulator().determineSignals([symbol], [interval], strategyCodes)\n",
    "        \n",
    "        for signal in simulatorSignals:\n",
    "            strategies[signal['strategy']]['dateTime'] = signal['dateTime']\n",
    "            strategies[signal['strategy']]['signal'] = signal['signal']\n",
    "\n",
    "print(signals)"
   ]
  },
  {
   "cell_type": "code",
   "execution_count": 5,
   "metadata": {},
   "outputs": [
    {
     "name": "stdout",
     "output_type": "stream",
     "text": [
      "[{'symbol': '0x/USD', 'interval': '1d', 'strategy': 'CCI_14_TREND_100', 'limit': 500, 'profit': 85.41904307432668, 'initBalance': 100, 'stopLossRate': 0, 'takeProfitRate': 0, 'feeRate': 0.5, 'dateTime': '2023-02-24T01:00:00', 'signal': 'Strong Sell'}, {'symbol': '0x/USD', 'interval': '1d', 'strategy': 'CCI_20_TREND_100', 'limit': 500, 'profit': 106.91473611375983, 'initBalance': 100, 'stopLossRate': 0, 'takeProfitRate': 0, 'feeRate': 0.5, 'dateTime': '2023-02-24T01:00:00', 'signal': 'Strong Sell'}, {'symbol': '0x/USD', 'interval': '1d', 'strategy': 'CCI_14_TREND_100', 'limit': 500, 'profit': 68.02542886404291, 'initBalance': 100, 'stopLossRate': 10, 'takeProfitRate': 30, 'feeRate': 0.5, 'dateTime': '2023-02-24T01:00:00', 'signal': 'Strong Sell'}, {'symbol': '0x/USD', 'interval': '1w', 'strategy': 'CCI_20_TREND_100', 'limit': 500, 'profit': 87.43149015089881, 'initBalance': 100, 'stopLossRate': 0, 'takeProfitRate': 0, 'feeRate': 0.5, 'dateTime': '2023-02-20T01:00:00', 'signal': 'Buy'}, {'symbol': '1INCH/USD', 'interval': '1w', 'strategy': 'CCI_20_TREND_100', 'limit': 500, 'profit': 61.50807849583171, 'initBalance': 100, 'stopLossRate': 10, 'takeProfitRate': 30, 'feeRate': 0.5, 'dateTime': '2023-02-20T01:00:00', 'signal': 'Buy'}, {'symbol': 'AA', 'interval': '1d', 'strategy': 'CCI_14_TREND_100', 'limit': 500, 'profit': 38.24437007993464, 'initBalance': 100, 'stopLossRate': 10, 'takeProfitRate': 30, 'feeRate': 0.5, 'dateTime': '2023-02-24T01:00:00', 'signal': 'Sell'}, {'symbol': 'AAL', 'interval': '1w', 'strategy': 'CCI_20_TREND_100', 'limit': 500, 'profit': 48.68418893625508, 'initBalance': 100, 'stopLossRate': 2, 'takeProfitRate': 6, 'feeRate': 0.5, 'dateTime': '2023-02-20T01:00:00', 'signal': 'Strong Sell'}, {'symbol': 'AAPL', 'interval': '1w', 'strategy': 'CCI_50_TREND_0', 'limit': 500, 'profit': 195.71065772942882, 'initBalance': 100, 'stopLossRate': 0, 'takeProfitRate': 0, 'feeRate': 0.5, 'dateTime': '2023-02-20T01:00:00', 'signal': 'Strong Sell'}, {'symbol': 'AAPL', 'interval': '1w', 'strategy': 'CCI_50_TREND_0', 'limit': 500, 'profit': 31.457594266114313, 'initBalance': 100, 'stopLossRate': 2, 'takeProfitRate': 6, 'feeRate': 0.5, 'dateTime': '2023-02-20T01:00:00', 'signal': 'Strong Sell'}, {'symbol': 'AAPL', 'interval': '1w', 'strategy': 'CCI_50_TREND_0', 'limit': 500, 'profit': 35.478533393690554, 'initBalance': 100, 'stopLossRate': 10, 'takeProfitRate': 30, 'feeRate': 0.5, 'dateTime': '2023-02-20T01:00:00', 'signal': 'Strong Sell'}, {'symbol': 'ACMR', 'interval': '1w', 'strategy': 'CCI_14_TREND_100', 'limit': 500, 'profit': 55.36045701147677, 'initBalance': 100, 'stopLossRate': 0, 'takeProfitRate': 0, 'feeRate': 0.5, 'dateTime': '2023-02-20T01:00:00', 'signal': 'Strong Sell'}, {'symbol': 'ACMR', 'interval': '1w', 'strategy': 'CCI_20_TREND_100', 'limit': 500, 'profit': 71.64411746426703, 'initBalance': 100, 'stopLossRate': 0, 'takeProfitRate': 0, 'feeRate': 0.5, 'dateTime': '2023-02-20T01:00:00', 'signal': 'Strong Sell'}]\n"
     ]
    }
   ],
   "source": [
    "check = []\n",
    "\n",
    "for result in positiveSimulations[:50]:\n",
    "    symbol = result['symbol']\n",
    "    interval = result['interval']\n",
    "    strategy = result['strategy']\n",
    "\n",
    "    result['dateTime'] = signals[symbol][interval][strategy]['dateTime']\n",
    "    result['signal'] = signals[symbol][interval][strategy]['signal']\n",
    "\n",
    "    if result['signal']:\n",
    "        check.append(result)\n",
    "\n",
    "print(check)"
   ]
  }
 ],
 "metadata": {
  "kernelspec": {
   "display_name": "Python 3.11.0 ('trading_tool_api-zTLVN5pT')",
   "language": "python",
   "name": "python3"
  },
  "language_info": {
   "codemirror_mode": {
    "name": "ipython",
    "version": 3
   },
   "file_extension": ".py",
   "mimetype": "text/x-python",
   "name": "python",
   "nbconvert_exporter": "python",
   "pygments_lexer": "ipython3",
   "version": "3.11.0"
  },
  "orig_nbformat": 4,
  "vscode": {
   "interpreter": {
    "hash": "7da19b681728320cf1bae9b08bd0dedcf082592c983723ea156fc92d7d6ed5f2"
   }
  }
 },
 "nbformat": 4,
 "nbformat_minor": 2
}

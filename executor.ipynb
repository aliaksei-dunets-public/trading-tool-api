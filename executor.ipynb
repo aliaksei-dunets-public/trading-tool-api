{
 "cells": [
  {
   "cell_type": "code",
   "execution_count": 1,
   "metadata": {},
   "outputs": [],
   "source": [
    "import os\n",
    "import json\n",
    "from trading_core.core import SimulateOptions\n",
    "from trading_core.model import config, SymbolList\n",
    "from trading_core.simulator import Simulator\n"
   ]
  },
  {
   "cell_type": "code",
   "execution_count": null,
   "metadata": {},
   "outputs": [],
   "source": [
    "symbols = SymbolList().getSymbolCodes()\n",
    "\n",
    "optionsList=[SimulateOptions(balance=100, limit=500, stopLossRate=0, takeProfitRate=0, feeRate=0.5),\n",
    "            #  SimulateOptions(balance=100, limit=500, stopLossRate=0.2, takeProfitRate=0.6, feeRate=0.5),\n",
    "            #  SimulateOptions(balance=100, limit=500, stopLossRate=0.5, takeProfitRate=1.5, feeRate=0.5),\n",
    "             SimulateOptions(balance=100, limit=500, stopLossRate=2, takeProfitRate=6, feeRate=0.5),\n",
    "             SimulateOptions(balance=100, limit=500, stopLossRate=5, takeProfitRate=15, feeRate=0.5),\n",
    "             SimulateOptions(balance=100, limit=500, stopLossRate=10, takeProfitRate=30, feeRate=0.5)\n",
    "            #  SimulateOptions(balance=100, limit=500, stopLossRate=20, takeProfitRate=60, feeRate=0.5)\n",
    "            ]\n",
    "\n",
    "# result = Simulator().simulateTrading(symbols=symbols, intervals=config.getIntervals('HIGH'), optionsList=optionsList)\n"
   ]
  },
  {
   "cell_type": "code",
   "execution_count": 8,
   "metadata": {},
   "outputs": [],
   "source": [
    "file_path = f'{os.getcwd()}\\static\\simulations.json'\n",
    "\n",
    "positiveSimulations = []\n",
    "\n",
    "with open(file_path, 'r') as reader:\n",
    "    simulations = json.load(reader)\n",
    "\n",
    "for simulate in simulations:\n",
    "    if simulate['profit'] >= simulate['initBalance'] * 0.3:\n",
    "        positiveSimulations.append(simulate)"
   ]
  },
  {
   "cell_type": "code",
   "execution_count": 2,
   "metadata": {},
   "outputs": [],
   "source": [
    "file_path = f'{os.getcwd()}\\static\\positiveSimulations.json'\n",
    "\n",
    "# with open(file_path, 'w') as writer:\n",
    "#     writer.write(json.dumps(positiveSimulations))\n",
    "\n",
    "with open(file_path, 'r') as reader:\n",
    "    positiveSimulations = json.load(reader)"
   ]
  },
  {
   "cell_type": "code",
   "execution_count": null,
   "metadata": {},
   "outputs": [],
   "source": [
    "symbolList = SymbolList.getSymbols()\n",
    "\n",
    "for result in positiveSimulations:\n",
    "\n",
    "    symbolIndex = symbolList.index()\n",
    "\n",
    "    result['type']\n",
    "\n",
    "with open(file_path, 'w') as writer:\n",
    "    writer.write(json.dumps(positiveSimulations))"
   ]
  },
  {
   "cell_type": "code",
   "execution_count": null,
   "metadata": {},
   "outputs": [],
   "source": [
    "signals = {}\n",
    "\n",
    "for result in positiveSimulations[:50]:\n",
    "    symbol = result['symbol']\n",
    "    interval = result['interval']\n",
    "    strategy = result['strategy']\n",
    "\n",
    "    if symbol not in signals:\n",
    "        signals[symbol] = {}\n",
    "    \n",
    "    if interval not in signals[symbol]:\n",
    "        signals[symbol][interval] = {}\n",
    "    \n",
    "    if strategy not in signals[symbol][interval]:\n",
    "        signals[symbol][interval][strategy] = {'dateTime': '', 'signal': ''}\n",
    "\n",
    "    \n",
    "print(signals)    \n",
    "    \n",
    "\n"
   ]
  },
  {
   "cell_type": "code",
   "execution_count": 4,
   "metadata": {},
   "outputs": [
    {
     "name": "stderr",
     "output_type": "stream",
     "text": [
      "2023-02-24 23:51:09,549 - root - INFO - getHistoryData(symbol=0x/USD, interval=4h, limit=51)\n",
      "2023-02-24 23:51:10,050 - root - INFO - getHistoryData(symbol=0x/USD, interval=1d, limit=15)\n",
      "2023-02-24 23:51:10,324 - root - INFO - getHistoryData(symbol=0x/USD, interval=1d, limit=21)\n",
      "2023-02-24 23:51:10,602 - root - INFO - getHistoryData(symbol=0x/USD, interval=1d, limit=51)\n",
      "2023-02-24 23:51:10,903 - root - INFO - getHistoryData(symbol=0x/USD, interval=1w, limit=21)\n",
      "2023-02-24 23:51:11,192 - root - INFO - getHistoryData(symbol=1INCH/USD, interval=1w, limit=21)\n",
      "2023-02-24 23:51:11,500 - root - INFO - getHistoryData(symbol=AA, interval=1d, limit=15)\n",
      "2023-02-24 23:51:11,822 - root - INFO - getHistoryData(symbol=AA, interval=1w, limit=51)\n",
      "2023-02-24 23:51:12,129 - root - INFO - getHistoryData(symbol=AAL, interval=1d, limit=15)\n",
      "2023-02-24 23:51:12,487 - root - INFO - getHistoryData(symbol=AAL, interval=1d, limit=21)\n",
      "2023-02-24 23:51:12,752 - root - INFO - getHistoryData(symbol=AAL, interval=1w, limit=15)\n",
      "2023-02-24 23:51:13,092 - root - INFO - getHistoryData(symbol=AAL, interval=1w, limit=21)\n",
      "2023-02-24 23:51:13,362 - root - INFO - getHistoryData(symbol=AAPL, interval=1w, limit=15)\n",
      "2023-02-24 23:51:13,733 - root - INFO - getHistoryData(symbol=AAPL, interval=1w, limit=51)\n",
      "2023-02-24 23:51:14,011 - root - INFO - getHistoryData(symbol=AAVE/USD, interval=1d, limit=21)\n",
      "2023-02-24 23:51:14,301 - root - INFO - getHistoryData(symbol=AAVE/USD, interval=1d, limit=51)\n",
      "2023-02-24 23:51:14,603 - root - INFO - getHistoryData(symbol=ABCL, interval=4h, limit=51)\n",
      "2023-02-24 23:51:14,929 - root - INFO - getHistoryData(symbol=ABCL, interval=1d, limit=51)\n",
      "2023-02-24 23:51:15,284 - root - INFO - getHistoryData(symbol=ABNB, interval=1w, limit=51)\n",
      "2023-02-24 23:51:15,621 - root - INFO - getHistoryData(symbol=ACMR, interval=1w, limit=15)\n",
      "2023-02-24 23:51:15,930 - root - INFO - getHistoryData(symbol=ACMR, interval=1w, limit=21)\n",
      "2023-02-24 23:51:16,202 - root - INFO - getHistoryData(symbol=AFRM, interval=4h, limit=15)\n",
      "2023-02-24 23:51:16,520 - root - INFO - getHistoryData(symbol=AFRM, interval=4h, limit=21)\n",
      "2023-02-24 23:51:16,818 - root - INFO - getHistoryData(symbol=AFRM, interval=1d, limit=51)\n",
      "2023-02-24 23:51:17,134 - root - INFO - getHistoryData(symbol=AFRM, interval=1w, limit=15)\n",
      "2023-02-24 23:51:17,508 - root - INFO - getHistoryData(symbol=AMC, interval=4h, limit=51)\n",
      "2023-02-24 23:51:17,858 - root - INFO - getHistoryData(symbol=AMC, interval=1d, limit=21)\n",
      "2023-02-24 23:51:18,159 - root - INFO - getHistoryData(symbol=AMC, interval=1d, limit=15)\n",
      "2023-02-24 23:51:18,443 - root - INFO - getHistoryData(symbol=AMC, interval=1w, limit=21)\n",
      "2023-02-24 23:51:18,756 - root - INFO - getHistoryData(symbol=AMC, interval=1w, limit=51)\n"
     ]
    },
    {
     "name": "stdout",
     "output_type": "stream",
     "text": [
      "{'0x/USD': {'4h': {'CCI_50_TREND_0': {'dateTime': '', 'signal': ''}}, '1d': {'CCI_14_TREND_100': {'dateTime': '2023-02-24T01:00:00', 'signal': 'Strong Sell'}, 'CCI_20_TREND_100': {'dateTime': '2023-02-24T01:00:00', 'signal': 'Strong Sell'}, 'CCI_50_TREND_0': {'dateTime': '', 'signal': ''}}, '1w': {'CCI_20_TREND_100': {'dateTime': '2023-02-20T01:00:00', 'signal': 'Buy'}}}, '1INCH/USD': {'1w': {'CCI_20_TREND_100': {'dateTime': '2023-02-20T01:00:00', 'signal': 'Buy'}}}, 'AA': {'1d': {'CCI_14_TREND_100': {'dateTime': '2023-02-24T01:00:00', 'signal': 'Sell'}}, '1w': {'CCI_50_TREND_0': {'dateTime': '', 'signal': ''}}}, 'AAL': {'1d': {'CCI_14_TREND_100': {'dateTime': '', 'signal': ''}, 'CCI_20_TREND_100': {'dateTime': '', 'signal': ''}}, '1w': {'CCI_14_TREND_100': {'dateTime': '', 'signal': ''}, 'CCI_20_TREND_100': {'dateTime': '2023-02-20T01:00:00', 'signal': 'Strong Sell'}}}, 'AAPL': {'1w': {'CCI_14_TREND_100': {'dateTime': '', 'signal': ''}, 'CCI_50_TREND_0': {'dateTime': '2023-02-20T01:00:00', 'signal': 'Strong Sell'}}}, 'AAVE/USD': {'1d': {'CCI_20_TREND_100': {'dateTime': '', 'signal': ''}, 'CCI_50_TREND_0': {'dateTime': '', 'signal': ''}}}, 'ABCL': {'4h': {'CCI_50_TREND_0': {'dateTime': '', 'signal': ''}}, '1d': {'CCI_50_TREND_0': {'dateTime': '', 'signal': ''}}}, 'ABNB': {'1w': {'CCI_50_TREND_0': {'dateTime': '', 'signal': ''}}}, 'ACMR': {'1w': {'CCI_14_TREND_100': {'dateTime': '2023-02-20T01:00:00', 'signal': 'Strong Sell'}, 'CCI_20_TREND_100': {'dateTime': '2023-02-20T01:00:00', 'signal': 'Strong Sell'}}}, 'AFRM': {'4h': {'CCI_14_TREND_100': {'dateTime': '', 'signal': ''}, 'CCI_20_TREND_100': {'dateTime': '', 'signal': ''}}, '1d': {'CCI_50_TREND_0': {'dateTime': '', 'signal': ''}}, '1w': {'CCI_14_TREND_100': {'dateTime': '', 'signal': ''}}}, 'AMC': {'4h': {'CCI_50_TREND_0': {'dateTime': '', 'signal': ''}}, '1d': {'CCI_20_TREND_100': {'dateTime': '', 'signal': ''}, 'CCI_14_TREND_100': {'dateTime': '', 'signal': ''}}, '1w': {'CCI_20_TREND_100': {'dateTime': '', 'signal': ''}, 'CCI_50_TREND_0': {'dateTime': '', 'signal': ''}}}}\n"
     ]
    }
   ],
   "source": [
    "strategyCodes = []\n",
    "\n",
    "for symbol, intervals in signals.items():\n",
    "    for interval, strategies in intervals.items():\n",
    "        strategyCodes.clear()\n",
    "        for strategy in strategies.keys():\n",
    "            strategyCodes.append(strategy)\n",
    "        simulatorSignals = Simulator().determineSignals([symbol], [interval], strategyCodes)\n",
    "        \n",
    "        for signal in simulatorSignals:\n",
    "            strategies[signal['strategy']]['dateTime'] = signal['dateTime']\n",
    "            strategies[signal['strategy']]['signal'] = signal['signal']\n",
    "\n",
    "print(signals)"
   ]
  },
  {
   "cell_type": "code",
   "execution_count": 5,
   "metadata": {},
   "outputs": [
    {
     "name": "stdout",
     "output_type": "stream",
     "text": [
      "[{'symbol': '0x/USD', 'interval': '1d', 'strategy': 'CCI_14_TREND_100', 'limit': 500, 'profit': 85.41904307432668, 'initBalance': 100, 'stopLossRate': 0, 'takeProfitRate': 0, 'feeRate': 0.5, 'dateTime': '2023-02-24T01:00:00', 'signal': 'Strong Sell'}, {'symbol': '0x/USD', 'interval': '1d', 'strategy': 'CCI_20_TREND_100', 'limit': 500, 'profit': 106.91473611375983, 'initBalance': 100, 'stopLossRate': 0, 'takeProfitRate': 0, 'feeRate': 0.5, 'dateTime': '2023-02-24T01:00:00', 'signal': 'Strong Sell'}, {'symbol': '0x/USD', 'interval': '1d', 'strategy': 'CCI_14_TREND_100', 'limit': 500, 'profit': 68.02542886404291, 'initBalance': 100, 'stopLossRate': 10, 'takeProfitRate': 30, 'feeRate': 0.5, 'dateTime': '2023-02-24T01:00:00', 'signal': 'Strong Sell'}, {'symbol': '0x/USD', 'interval': '1w', 'strategy': 'CCI_20_TREND_100', 'limit': 500, 'profit': 87.43149015089881, 'initBalance': 100, 'stopLossRate': 0, 'takeProfitRate': 0, 'feeRate': 0.5, 'dateTime': '2023-02-20T01:00:00', 'signal': 'Buy'}, {'symbol': '1INCH/USD', 'interval': '1w', 'strategy': 'CCI_20_TREND_100', 'limit': 500, 'profit': 61.50807849583171, 'initBalance': 100, 'stopLossRate': 10, 'takeProfitRate': 30, 'feeRate': 0.5, 'dateTime': '2023-02-20T01:00:00', 'signal': 'Buy'}, {'symbol': 'AA', 'interval': '1d', 'strategy': 'CCI_14_TREND_100', 'limit': 500, 'profit': 38.24437007993464, 'initBalance': 100, 'stopLossRate': 10, 'takeProfitRate': 30, 'feeRate': 0.5, 'dateTime': '2023-02-24T01:00:00', 'signal': 'Sell'}, {'symbol': 'AAL', 'interval': '1w', 'strategy': 'CCI_20_TREND_100', 'limit': 500, 'profit': 48.68418893625508, 'initBalance': 100, 'stopLossRate': 2, 'takeProfitRate': 6, 'feeRate': 0.5, 'dateTime': '2023-02-20T01:00:00', 'signal': 'Strong Sell'}, {'symbol': 'AAPL', 'interval': '1w', 'strategy': 'CCI_50_TREND_0', 'limit': 500, 'profit': 195.71065772942882, 'initBalance': 100, 'stopLossRate': 0, 'takeProfitRate': 0, 'feeRate': 0.5, 'dateTime': '2023-02-20T01:00:00', 'signal': 'Strong Sell'}, {'symbol': 'AAPL', 'interval': '1w', 'strategy': 'CCI_50_TREND_0', 'limit': 500, 'profit': 31.457594266114313, 'initBalance': 100, 'stopLossRate': 2, 'takeProfitRate': 6, 'feeRate': 0.5, 'dateTime': '2023-02-20T01:00:00', 'signal': 'Strong Sell'}, {'symbol': 'AAPL', 'interval': '1w', 'strategy': 'CCI_50_TREND_0', 'limit': 500, 'profit': 35.478533393690554, 'initBalance': 100, 'stopLossRate': 10, 'takeProfitRate': 30, 'feeRate': 0.5, 'dateTime': '2023-02-20T01:00:00', 'signal': 'Strong Sell'}, {'symbol': 'ACMR', 'interval': '1w', 'strategy': 'CCI_14_TREND_100', 'limit': 500, 'profit': 55.36045701147677, 'initBalance': 100, 'stopLossRate': 0, 'takeProfitRate': 0, 'feeRate': 0.5, 'dateTime': '2023-02-20T01:00:00', 'signal': 'Strong Sell'}, {'symbol': 'ACMR', 'interval': '1w', 'strategy': 'CCI_20_TREND_100', 'limit': 500, 'profit': 71.64411746426703, 'initBalance': 100, 'stopLossRate': 0, 'takeProfitRate': 0, 'feeRate': 0.5, 'dateTime': '2023-02-20T01:00:00', 'signal': 'Strong Sell'}]\n"
     ]
    }
   ],
   "source": [
    "check = []\n",
    "\n",
    "for result in positiveSimulations[:50]:\n",
    "    symbol = result['symbol']\n",
    "    interval = result['interval']\n",
    "    strategy = result['strategy']\n",
    "\n",
    "    result['dateTime'] = signals[symbol][interval][strategy]['dateTime']\n",
    "    result['signal'] = signals[symbol][interval][strategy]['signal']\n",
    "\n",
    "    if result['signal']:\n",
    "        check.append(result)\n",
    "\n",
    "print(check)"
   ]
  },
  {
   "cell_type": "code",
   "execution_count": null,
   "metadata": {},
   "outputs": [],
   "source": [
    "import datetime\n",
    "\n",
    "# Replace with your desired time configuration\n",
    "time_config = 'UTC; Mon - 22:00, 22:05 -; Tue - 22:00, 22:05 -; Wed - 22:00, 22:05 -; Thu - 22:00, 22:05 -; Fri - 22:00, 23:01 -; Sat - 06:00, 08:00 - 22:00, 22:05 -; Sun - 22:00, 22:05 -'\n",
    "\n",
    "# Split the time configuration string into individual entries\n",
    "time_entries = time_config.split('; ')\n",
    "\n",
    "# Convert the current time to UTC\n",
    "current_time_utc = datetime.datetime.utcnow()\n",
    "\n",
    "# Loop through each time entry and check if the current time aligns\n",
    "for entry in time_entries[1:]:\n",
    "    # Split the entry into day and time ranges\n",
    "    day, times = entry.split(' ', 1)\n",
    "    # Check if today matches the day in the entry\n",
    "    if day[:3].lower() == current_time_utc.strftime('%a').lower():\n",
    "\n",
    "        time_ranges = times.split(',')\n",
    "\n",
    "        for time_range in time_ranges:\n",
    "            # Split the time range into start and end times\n",
    "            start_time, end_time = time_range.split('-')\n",
    "            start_time = '00:00' if start_time == '' else start_time\n",
    "            start_time = datetime.datetime.strptime(start_time.strip(), '%H:%M')\n",
    "            end_time = '00:00' if end_time == ' ' else end_time\n",
    "            end_time = datetime.datetime.strptime(end_time.strip(), '%H:%M')\n",
    "            # Check if the current time is within the time range\n",
    "            if start_time.time() <= current_time_utc.time() and current_time_utc.time() <= end_time.time():\n",
    "                print('The current time aligns with the time configuration.')\n",
    "                exit\n",
    "            else:\n",
    "                continue\n",
    "else:\n",
    "    print('The current time does not align with the time configuration.')\n"
   ]
  },
  {
   "cell_type": "code",
   "execution_count": 2,
   "metadata": {},
   "outputs": [
    {
     "name": "stderr",
     "output_type": "stream",
     "text": [
      "2023-05-10 13:27:38,200 - root - INFO - getHistoryData(symbol=BTC/USD, interval=1w, limit=5)\n",
      "2023-05-10 13:27:38,201 - root - INFO - 2023-05-08 00:00:00\n",
      "2023-05-10 13:27:39,037 - root - INFO - getHistoryData(symbol=BTC/USD, interval=1w, limit=5)\n"
     ]
    },
    {
     "name": "stdout",
     "output_type": "stream",
     "text": [
      "                         Open      High       Low     Close     Volume\n",
      "Datetime                                                              \n",
      "2023-04-10 02:00:00  28347.45  31059.10  28175.85  30322.45  1260018.0\n",
      "2023-04-17 02:00:00  30320.45  30503.95  27134.20  27587.70  1461399.0\n",
      "2023-04-24 02:00:00  27587.95  30034.70  26954.20  29247.20  1503451.0\n",
      "2023-05-01 02:00:00  29247.45  29866.45  27659.45  28481.45  1572921.0\n",
      "                         Open      High       Low     Close     Volume\n",
      "Datetime                                                              \n",
      "2023-04-10 02:00:00  28347.45  31059.10  28175.85  30322.45  1260018.0\n",
      "2023-04-17 02:00:00  30320.45  30503.95  27134.20  27587.70  1461399.0\n",
      "2023-04-24 02:00:00  27587.95  30034.70  26954.20  29247.20  1503451.0\n",
      "2023-05-01 02:00:00  29247.45  29866.45  27659.45  28481.45  1572921.0\n",
      "2023-05-08 02:00:00  28478.60  28671.35  27280.85  27629.45   573996.0\n"
     ]
    }
   ],
   "source": [
    "import datetime\n",
    "from trading_core.handler import HandlerCurrencyCom\n",
    "\n",
    "handler = HandlerCurrencyCom()\n",
    "\n",
    "interval = '1w'\n",
    "\n",
    "data = handler.getHistoryData('BTC/USD', interval, 5, closedBar=True)\n",
    "\n",
    "print(data.getDataFrame())\n",
    "\n",
    "data = handler.getHistoryData('BTC/USD', interval, 5, closedBar=False)\n",
    "\n",
    "print(data.getDataFrame())"
   ]
  },
  {
   "cell_type": "code",
   "execution_count": 2,
   "metadata": {},
   "outputs": [
    {
     "name": "stderr",
     "output_type": "stream",
     "text": [
      "2023-05-10 15:31:49,965 - root - INFO - Bot notification Job is triggered for interval - 4h\n",
      "2023-05-10 15:31:50,076 - root - INFO - getHistoryData(symbol=BTC/USD, interval=4h, limit=15)\n",
      "2023-05-10 15:31:50,077 - root - INFO - Closed Bar time is 2023-05-10 10:00:00 for interval - 4h\n",
      "2023-05-10 15:31:50,452 - root - INFO - getHistoryData(symbol=BTC/USD, interval=4h, limit=21)\n",
      "2023-05-10 15:31:50,453 - root - INFO - Closed Bar time is 2023-05-10 10:00:00 for interval - 4h\n",
      "2023-05-10 15:31:50,779 - root - INFO - getHistoryData(symbol=BTC/USD, interval=4h, limit=51)\n",
      "2023-05-10 15:31:50,780 - root - INFO - Closed Bar time is 2023-05-10 10:00:00 for interval - 4h\n",
      "2023-05-10 15:31:51,053 - root - INFO - getHistoryData(symbol=LDO/USD, interval=4h, limit=15)\n",
      "2023-05-10 15:31:51,054 - root - INFO - Closed Bar time is 2023-05-10 10:00:00 for interval - 4h\n",
      "2023-05-10 15:31:51,347 - root - INFO - getHistoryData(symbol=LDO/USD, interval=4h, limit=21)\n",
      "2023-05-10 15:31:51,348 - root - INFO - Closed Bar time is 2023-05-10 10:00:00 for interval - 4h\n",
      "2023-05-10 15:31:51,634 - root - INFO - getHistoryData(symbol=LDO/USD, interval=4h, limit=51)\n",
      "2023-05-10 15:31:51,635 - root - INFO - Closed Bar time is 2023-05-10 10:00:00 for interval - 4h\n",
      "2023-05-10 15:31:51,905 - root - INFO - getHistoryData(symbol=BTC/USD, interval=4h, limit=15)\n",
      "2023-05-10 15:31:51,905 - root - INFO - Closed Bar time is 2023-05-10 10:00:00 for interval - 4h\n",
      "2023-05-10 15:31:52,186 - root - INFO - getHistoryData(symbol=BTC/USD, interval=4h, limit=21)\n",
      "2023-05-10 15:31:52,188 - root - INFO - Closed Bar time is 2023-05-10 10:00:00 for interval - 4h\n",
      "2023-05-10 15:31:52,470 - root - INFO - getHistoryData(symbol=BTC/USD, interval=4h, limit=51)\n",
      "2023-05-10 15:31:52,471 - root - INFO - Closed Bar time is 2023-05-10 10:00:00 for interval - 4h\n",
      "2023-05-10 15:31:52,750 - root - INFO - getHistoryData(symbol=Natural Gas, interval=4h, limit=15)\n",
      "2023-05-10 15:31:52,751 - root - INFO - Closed Bar time is 2023-05-10 10:00:00 for interval - 4h\n",
      "2023-05-10 15:31:53,053 - root - INFO - getHistoryData(symbol=Natural Gas, interval=4h, limit=21)\n",
      "2023-05-10 15:31:53,054 - root - INFO - Closed Bar time is 2023-05-10 10:00:00 for interval - 4h\n",
      "2023-05-10 15:31:53,351 - root - INFO - getHistoryData(symbol=Natural Gas, interval=4h, limit=51)\n",
      "2023-05-10 15:31:53,352 - root - INFO - Closed Bar time is 2023-05-10 10:00:00 for interval - 4h\n",
      "2023-05-10 15:31:53,618 - root - INFO - getHistoryData(symbol=NET, interval=4h, limit=15)\n",
      "2023-05-10 15:31:53,619 - root - INFO - Closed Bar time is 2023-05-10 10:00:00 for interval - 4h\n",
      "2023-05-10 15:31:54,108 - root - INFO - getHistoryData(symbol=NET, interval=4h, limit=21)\n",
      "2023-05-10 15:31:54,110 - root - INFO - Closed Bar time is 2023-05-10 10:00:00 for interval - 4h\n",
      "2023-05-10 15:31:54,387 - root - INFO - getHistoryData(symbol=NET, interval=4h, limit=51)\n",
      "2023-05-10 15:31:54,388 - root - INFO - Closed Bar time is 2023-05-10 10:00:00 for interval - 4h\n",
      "2023-05-10 15:31:54,689 - root - INFO - getHistoryData(symbol=EPAM, interval=4h, limit=15)\n",
      "2023-05-10 15:31:54,690 - root - INFO - Closed Bar time is 2023-05-10 10:00:00 for interval - 4h\n",
      "2023-05-10 15:31:55,076 - root - INFO - getHistoryData(symbol=EPAM, interval=4h, limit=21)\n",
      "2023-05-10 15:31:55,077 - root - INFO - Closed Bar time is 2023-05-10 10:00:00 for interval - 4h\n",
      "2023-05-10 15:31:55,421 - root - INFO - getHistoryData(symbol=EPAM, interval=4h, limit=51)\n",
      "2023-05-10 15:31:55,422 - root - INFO - Closed Bar time is 2023-05-10 10:00:00 for interval - 4h\n",
      "2023-05-10 15:31:55,741 - root - INFO - getHistoryData(symbol=BNGO, interval=4h, limit=15)\n",
      "2023-05-10 15:31:55,742 - root - INFO - Closed Bar time is 2023-05-10 10:00:00 for interval - 4h\n",
      "2023-05-10 15:31:56,177 - root - INFO - getHistoryData(symbol=BNGO, interval=4h, limit=21)\n",
      "2023-05-10 15:31:56,178 - root - INFO - Closed Bar time is 2023-05-10 10:00:00 for interval - 4h\n",
      "2023-05-10 15:31:56,481 - root - INFO - getHistoryData(symbol=BNGO, interval=4h, limit=51)\n",
      "2023-05-10 15:31:56,482 - root - INFO - Closed Bar time is 2023-05-10 10:00:00 for interval - 4h\n",
      "2023-05-10 15:31:56,757 - root - INFO - getHistoryData(symbol=AMRS, interval=4h, limit=15)\n",
      "2023-05-10 15:31:56,758 - root - INFO - Closed Bar time is 2023-05-10 10:00:00 for interval - 4h\n",
      "2023-05-10 15:31:57,456 - root - INFO - getHistoryData(symbol=AMRS, interval=4h, limit=21)\n",
      "2023-05-10 15:31:57,457 - root - INFO - Closed Bar time is 2023-05-10 10:00:00 for interval - 4h\n",
      "2023-05-10 15:31:57,711 - root - INFO - getHistoryData(symbol=AMRS, interval=4h, limit=51)\n",
      "2023-05-10 15:31:57,713 - root - INFO - Closed Bar time is 2023-05-10 10:00:00 for interval - 4h\n",
      "2023-05-10 15:31:58,024 - root - INFO - getHistoryData(symbol=GOCO, interval=4h, limit=15)\n",
      "2023-05-10 15:31:58,025 - root - INFO - Closed Bar time is 2023-05-10 10:00:00 for interval - 4h\n",
      "2023-05-10 15:31:58,424 - root - INFO - getHistoryData(symbol=GOCO, interval=4h, limit=21)\n",
      "2023-05-10 15:31:58,425 - root - INFO - Closed Bar time is 2023-05-10 10:00:00 for interval - 4h\n",
      "2023-05-10 15:31:58,687 - root - INFO - getHistoryData(symbol=GOCO, interval=4h, limit=51)\n",
      "2023-05-10 15:31:58,688 - root - INFO - Closed Bar time is 2023-05-10 10:00:00 for interval - 4h\n"
     ]
    }
   ],
   "source": [
    "from trading_core import utils\n",
    "\n",
    "utils.send_bot_notification('4h')"
   ]
  }
 ],
 "metadata": {
  "kernelspec": {
   "display_name": "Python 3.11.0 ('trading_tool_api-zTLVN5pT')",
   "language": "python",
   "name": "python3"
  },
  "language_info": {
   "codemirror_mode": {
    "name": "ipython",
    "version": 3
   },
   "file_extension": ".py",
   "mimetype": "text/x-python",
   "name": "python",
   "nbconvert_exporter": "python",
   "pygments_lexer": "ipython3",
   "version": "3.11.0"
  },
  "orig_nbformat": 4,
  "vscode": {
   "interpreter": {
    "hash": "7da19b681728320cf1bae9b08bd0dedcf082592c983723ea156fc92d7d6ed5f2"
   }
  }
 },
 "nbformat": 4,
 "nbformat_minor": 2
}
